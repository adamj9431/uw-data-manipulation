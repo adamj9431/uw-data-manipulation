{
 "cells": [
  {
   "cell_type": "markdown",
   "metadata": {},
   "source": [
    "## Data Manipulation at Scale: Systems and Algorithms\n",
    "### Assignment 2: SQL for Data Science\n",
    "\n",
    "https://www.coursera.org/learn/data-manipulation/programming/nkglo/sql-for-data-science-assignment"
   ]
  },
  {
   "cell_type": "markdown",
   "metadata": {},
   "source": [
    "Load the `reuters.db` SQLite database."
   ]
  },
  {
   "cell_type": "code",
   "execution_count": 36,
   "metadata": {
    "collapsed": false,
    "scrolled": true,
    "slideshow": {
     "slide_type": "slide"
    }
   },
   "outputs": [],
   "source": [
    "import sqlite3\n",
    "reuters = sqlite3.connect('reuters.db')\n",
    "cr = reuters.cursor()"
   ]
  },
  {
   "cell_type": "markdown",
   "metadata": {
    "slideshow": {
     "slide_type": "subslide"
    }
   },
   "source": [
    "**Problem 1: Inspecting the Reuters Dataset and Basic Relational Algebra**\n",
    "\n",
    "**Problem 1, Part A:** Using Select"
   ]
  },
  {
   "cell_type": "code",
   "execution_count": 37,
   "metadata": {
    "collapsed": false,
    "slideshow": {
     "slide_type": "slide"
    }
   },
   "outputs": [
    {
     "name": "stdout",
     "output_type": "stream",
     "text": [
      "138\n"
     ]
    }
   ],
   "source": [
    "cr.execute(\"SELECT COUNT(*) FROM (SELECT * FROM frequency WHERE docid='10398_txt_earn')\")\n",
    "result = cr.fetchone()[0]\n",
    "print result"
   ]
  },
  {
   "cell_type": "code",
   "execution_count": 38,
   "metadata": {
    "collapsed": true
   },
   "outputs": [],
   "source": [
    "with open('part_a.txt', 'w') as f:\n",
    "    f.write(str(result))"
   ]
  },
  {
   "cell_type": "markdown",
   "metadata": {
    "slideshow": {
     "slide_type": "slide"
    }
   },
   "source": [
    "**Problem 1, Part B:** Using Select, Project\n"
   ]
  },
  {
   "cell_type": "code",
   "execution_count": 39,
   "metadata": {
    "collapsed": false
   },
   "outputs": [
    {
     "name": "stdout",
     "output_type": "stream",
     "text": [
      "110\n"
     ]
    }
   ],
   "source": [
    "cr.execute(\"SELECT COUNT(*) FROM (SELECT term FROM frequency WHERE docid='10398_txt_earn' AND count=1)\")\n",
    "result = cr.fetchone()[0]\n",
    "print result"
   ]
  },
  {
   "cell_type": "code",
   "execution_count": 40,
   "metadata": {
    "collapsed": true
   },
   "outputs": [],
   "source": [
    "with open('part_b.txt', 'w') as f:\n",
    "    f.write(str(result))"
   ]
  },
  {
   "cell_type": "markdown",
   "metadata": {},
   "source": [
    "**Problem 1, Part C:** Using Union"
   ]
  },
  {
   "cell_type": "code",
   "execution_count": 41,
   "metadata": {
    "collapsed": false
   },
   "outputs": [
    {
     "name": "stdout",
     "output_type": "stream",
     "text": [
      "324\n"
     ]
    }
   ],
   "source": [
    "cr.execute(\"SELECT COUNT(*) FROM ( \\\n",
    "                  SELECT term FROM frequency \\\n",
    "                  WHERE docid='10398_txt_earn' AND count=1 \\\n",
    "                  UNION SELECT term FROM frequency \\\n",
    "                  WHERE docid='925_txt_trade' AND count=1)\")\n",
    "result = cr.fetchone()[0]\n",
    "print result"
   ]
  },
  {
   "cell_type": "code",
   "execution_count": 42,
   "metadata": {
    "collapsed": true
   },
   "outputs": [],
   "source": [
    "with open('part_c.txt', 'w') as f:\n",
    "    f.write(str(result))"
   ]
  },
  {
   "cell_type": "markdown",
   "metadata": {},
   "source": [
    "**Problem 1, Part D:** Count unique documents"
   ]
  },
  {
   "cell_type": "code",
   "execution_count": 43,
   "metadata": {
    "collapsed": false
   },
   "outputs": [
    {
     "name": "stdout",
     "output_type": "stream",
     "text": [
      "58\n"
     ]
    }
   ],
   "source": [
    "cr.execute(\"SELECT COUNT(*) FROM ( \\\n",
    "                  SELECT docid FROM frequency \\\n",
    "                  WHERE term='legal' UNION \\\n",
    "                  SELECT docid FROM frequency WHERE term='law')\")\n",
    "result = cr.fetchone()[0]\n",
    "print result"
   ]
  },
  {
   "cell_type": "code",
   "execution_count": 44,
   "metadata": {
    "collapsed": true
   },
   "outputs": [],
   "source": [
    "with open('part_d.txt', 'w') as f:\n",
    "    f.write(str(result))"
   ]
  },
  {
   "cell_type": "markdown",
   "metadata": {},
   "source": [
    "**Problem 1, Part E:** Find documents with >300 terms"
   ]
  },
  {
   "cell_type": "code",
   "execution_count": 45,
   "metadata": {
    "collapsed": false
   },
   "outputs": [
    {
     "name": "stdout",
     "output_type": "stream",
     "text": [
      "107\n"
     ]
    }
   ],
   "source": [
    "cr.execute(\"SELECT COUNT(*) FROM ( \\\n",
    "                  SELECT sum(count) as wordcount, docid \\\n",
    "                  FROM frequency GROUP BY docid HAVING wordcount>300)\")\n",
    "result = cr.fetchone()[0]\n",
    "print result"
   ]
  },
  {
   "cell_type": "code",
   "execution_count": 46,
   "metadata": {
    "collapsed": true
   },
   "outputs": [],
   "source": [
    "with open('part_e.txt', 'w') as f:\n",
    "    f.write(str(result))"
   ]
  },
  {
   "cell_type": "markdown",
   "metadata": {},
   "source": [
    "**Problem 1, Part F:** Count documents that contain two words"
   ]
  },
  {
   "cell_type": "code",
   "execution_count": 47,
   "metadata": {
    "collapsed": false
   },
   "outputs": [
    {
     "name": "stdout",
     "output_type": "stream",
     "text": [
      "3\n"
     ]
    }
   ],
   "source": [
    "cr.execute(\"SELECT COUNT(*) FROM ( \\\n",
    "              SELECT docid FROM frequency WHERE term='transactions' \\\n",
    "              INTERSECT SELECT docid FROM frequency WHERE term='world')\")\n",
    "result = cr.fetchone()[0]\n",
    "print result"
   ]
  },
  {
   "cell_type": "code",
   "execution_count": 48,
   "metadata": {
    "collapsed": true
   },
   "outputs": [],
   "source": [
    "with open('part_f.txt', 'w') as f:\n",
    "    f.write(str(result))"
   ]
  },
  {
   "cell_type": "markdown",
   "metadata": {},
   "source": [
    "**Problem 2: Matrix Multiplication in SQL**"
   ]
  },
  {
   "cell_type": "code",
   "execution_count": 49,
   "metadata": {
    "collapsed": false
   },
   "outputs": [],
   "source": [
    "matrix = sqlite3.connect('matrix.db')\n",
    "cm = matrix.cursor()"
   ]
  },
  {
   "cell_type": "markdown",
   "metadata": {},
   "source": [
    "Express AxB as a SQL query"
   ]
  },
  {
   "cell_type": "code",
   "execution_count": null,
   "metadata": {
    "collapsed": true
   },
   "outputs": [],
   "source": [
    "cr.execute(\"DROP VIEW IF EXISTS ResultMatrix\")"
   ]
  },
  {
   "cell_type": "code",
   "execution_count": 50,
   "metadata": {
    "collapsed": false
   },
   "outputs": [
    {
     "ename": "OperationalError",
     "evalue": "table ResultMatrix already exists",
     "output_type": "error",
     "traceback": [
      "\u001b[0;31m---------------------------------------------------------------------------\u001b[0m",
      "\u001b[0;31mOperationalError\u001b[0m                          Traceback (most recent call last)",
      "\u001b[0;32m<ipython-input-50-73f0b7b00d6a>\u001b[0m in \u001b[0;36m<module>\u001b[0;34m()\u001b[0m\n\u001b[0;32m----> 1\u001b[0;31m \u001b[0mcm\u001b[0m\u001b[0;34m.\u001b[0m\u001b[0mexecute\u001b[0m\u001b[0;34m(\u001b[0m\u001b[0;34m\"CREATE VIEW ResultMatrix AS     SELECT A.row_num, B.col_num, sum(A.value*B.value) as value     FROM A,B WHERE A.col_num=B.row_num     GROUP BY A.row_num, B.col_num\"\u001b[0m\u001b[0;34m)\u001b[0m\u001b[0;34m\u001b[0m\u001b[0m\n\u001b[0m",
      "\u001b[0;31mOperationalError\u001b[0m: table ResultMatrix already exists"
     ]
    }
   ],
   "source": [
    "cm.execute(\"CREATE OR REPLACE VIEW ResultMatrix AS \\\n",
    "    SELECT A.row_num, B.col_num, sum(A.value*B.value) as value \\\n",
    "    FROM A,B WHERE A.col_num=B.row_num \\\n",
    "    GROUP BY A.row_num, B.col_num\")"
   ]
  },
  {
   "cell_type": "markdown",
   "metadata": {},
   "source": [
    "Get the value at (2,3)"
   ]
  },
  {
   "cell_type": "code",
   "execution_count": 51,
   "metadata": {
    "collapsed": false,
    "scrolled": true
   },
   "outputs": [
    {
     "name": "stdout",
     "output_type": "stream",
     "text": [
      "2874\n"
     ]
    }
   ],
   "source": [
    "cm.execute(\"SELECT value FROM ResultMatrix WHERE row_num=2 AND col_num=3\")\n",
    "result = cm.fetchone()[0]\n",
    "print result"
   ]
  },
  {
   "cell_type": "code",
   "execution_count": 52,
   "metadata": {
    "collapsed": true
   },
   "outputs": [],
   "source": [
    "with open('part_g.txt', 'w') as f:\n",
    "    f.write(str(result))"
   ]
  },
  {
   "cell_type": "markdown",
   "metadata": {},
   "source": [
    "**Problem 3: Working with a Term-Document Matrix**"
   ]
  },
  {
   "cell_type": "markdown",
   "metadata": {},
   "source": [
    "Each row of the frequency table is a document vector, with one column for each word. Multiplying the matrix by its own transpose gives a square *similarity matrix*, where each cell represents the similarity of two documents. The similarity here is just the dot product of the two document vectors.\n",
    "\n",
    "The condition `A.docid > B.docid` ensures that each dot product is only computed once.\n",
    "\n",
    "The notebook crashed without the LIMIT 100 clause, but you would remove this to actually use the query for stuff."
   ]
  },
  {
   "cell_type": "code",
   "execution_count": 65,
   "metadata": {
    "collapsed": false
   },
   "outputs": [
    {
     "data": {
      "text/plain": [
       "<sqlite3.Cursor at 0x10947ce30>"
      ]
     },
     "execution_count": 65,
     "metadata": {},
     "output_type": "execute_result"
    }
   ],
   "source": [
    "cr.execute(\"DROP VIEW IF EXISTS SimilarityMatrix\")"
   ]
  },
  {
   "cell_type": "code",
   "execution_count": 66,
   "metadata": {
    "collapsed": false
   },
   "outputs": [
    {
     "data": {
      "text/plain": [
       "<sqlite3.Cursor at 0x10947ce30>"
      ]
     },
     "execution_count": 66,
     "metadata": {},
     "output_type": "execute_result"
    }
   ],
   "source": [
    "cr.execute(\"CREATE VIEW SimilarityMatrix AS \\\n",
    "    SELECT A.docid as docid1, B.docid as docid2, sum(A.count*B.count) as similarity \\\n",
    "    FROM frequency as A, frequency as B \\\n",
    "    WHERE A.term=B.term AND docid2 > docid1 \\\n",
    "    GROUP BY docid1, docid2\")"
   ]
  },
  {
   "cell_type": "code",
   "execution_count": 67,
   "metadata": {
    "collapsed": false
   },
   "outputs": [
    {
     "name": "stdout",
     "output_type": "stream",
     "text": [
      "19\n"
     ]
    }
   ],
   "source": [
    "cr.execute(\"SELECT similarity FROM SimilarityMatrix WHERE docid1='10080_txt_crude' AND docid2='17035_txt_earn'\")\n",
    "result = cr.fetchone()[0]\n",
    "print result"
   ]
  },
  {
   "cell_type": "code",
   "execution_count": 68,
   "metadata": {
    "collapsed": true
   },
   "outputs": [],
   "source": [
    "with open('part_h.txt', 'w') as f:\n",
    "    f.write(str(result))"
   ]
  },
  {
   "cell_type": "markdown",
   "metadata": {},
   "source": [
    "To search the dataset, add a document that represents the keyword query *'washington taxes treasury'* as document q."
   ]
  },
  {
   "cell_type": "code",
   "execution_count": 70,
   "metadata": {
    "collapsed": false
   },
   "outputs": [
    {
     "data": {
      "text/plain": [
       "<sqlite3.Cursor at 0x10947ce30>"
      ]
     },
     "execution_count": 70,
     "metadata": {},
     "output_type": "execute_result"
    }
   ],
   "source": [
    "cr.execute(\"DROP VIEW IF EXISTS FrequencyAndQuery\")"
   ]
  },
  {
   "cell_type": "code",
   "execution_count": 71,
   "metadata": {
    "collapsed": false
   },
   "outputs": [
    {
     "data": {
      "text/plain": [
       "<sqlite3.Cursor at 0x10947ce30>"
      ]
     },
     "execution_count": 71,
     "metadata": {},
     "output_type": "execute_result"
    }
   ],
   "source": [
    "cr.execute(\"CREATE VIEW FrequencyAndQuery AS \\\n",
    "    SELECT * FROM FREQUENCY \\\n",
    "    UNION SELECT 'q' as docid, 'washington' as term, 1 as count \\\n",
    "    UNION SELECT 'q' as docid, 'taxes' as term, 1 as count \\\n",
    "    UNION SELECT 'q' as docid, 'treasury' as term, 2 as count\")"
   ]
  },
  {
   "cell_type": "markdown",
   "metadata": {},
   "source": [
    "Now compute the similarity matrix again. Get the 20 most similar documents to the query document q."
   ]
  },
  {
   "cell_type": "code",
   "execution_count": 72,
   "metadata": {
    "collapsed": false
   },
   "outputs": [
    {
     "name": "stdout",
     "output_type": "stream",
     "text": [
      "11\n"
     ]
    }
   ],
   "source": [
    "cr.execute(\"SELECT similarity FROM \\\n",
    "                (SELECT A.docid as docA, B.docid as docB, sum(A.count*B.count) as similarity \\\n",
    "                    FROM frequencyAndQuery as A, frequencyAndQuery as B \\\n",
    "                    WHERE A.term=B.term AND A.docid > B.docid \\\n",
    "                    GROUP BY A.docid, B.docid) \\\n",
    "            WHERE docA='q' OR docB='q' \\\n",
    "            ORDER BY similarity DESC \\\n",
    "            LIMIT 1\")\n",
    "result = cr.fetchone()[0]\n",
    "print result"
   ]
  },
  {
   "cell_type": "code",
   "execution_count": 73,
   "metadata": {
    "collapsed": true
   },
   "outputs": [],
   "source": [
    "with open('part_i.txt', 'w') as f:\n",
    "    f.write(str(result))"
   ]
  }
 ],
 "metadata": {
  "kernelspec": {
   "display_name": "Python 2",
   "language": "python",
   "name": "python2"
  },
  "language_info": {
   "codemirror_mode": {
    "name": "ipython",
    "version": 2
   },
   "file_extension": ".py",
   "mimetype": "text/x-python",
   "name": "python",
   "nbconvert_exporter": "python",
   "pygments_lexer": "ipython2",
   "version": "2.7.11"
  }
 },
 "nbformat": 4,
 "nbformat_minor": 0
}
