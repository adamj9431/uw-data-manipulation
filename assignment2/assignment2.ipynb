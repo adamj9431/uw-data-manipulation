{
 "cells": [
  {
   "cell_type": "markdown",
   "metadata": {},
   "source": [
    "## Data Manipulation at Scale: Systems and Algorithms\n",
    "### Assignment 2: SQL for Data Science\n",
    "\n",
    "https://www.coursera.org/learn/data-manipulation/programming/nkglo/sql-for-data-science-assignment"
   ]
  },
  {
   "cell_type": "markdown",
   "metadata": {},
   "source": [
    "Load the `reuters.db` SQLite database. The %sql/%%sql magic in the cells is provided by the ipython-sql package."
   ]
  },
  {
   "cell_type": "code",
   "execution_count": null,
   "metadata": {
    "collapsed": false,
    "slideshow": {
     "slide_type": "slide"
    }
   },
   "outputs": [],
   "source": [
    "%load_ext sql\n",
    "%sql sqlite:///reuters.db"
   ]
  },
  {
   "cell_type": "markdown",
   "metadata": {
    "slideshow": {
     "slide_type": "subslide"
    }
   },
   "source": [
    "**Problem 1: Inspecting the Reuters Dataset and Basic Relational Algebra**\n",
    "\n",
    "**Problem 1, Part A:** Using Select"
   ]
  },
  {
   "cell_type": "code",
   "execution_count": null,
   "metadata": {
    "collapsed": false,
    "slideshow": {
     "slide_type": "slide"
    }
   },
   "outputs": [],
   "source": [
    "%%sql\n",
    "SELECT * FROM frequency WHERE docid=\"10398_txt_earn\""
   ]
  },
  {
   "cell_type": "markdown",
   "metadata": {
    "slideshow": {
     "slide_type": "slide"
    }
   },
   "source": [
    "**Problem 1, Part B:** Using Select, Project\n"
   ]
  },
  {
   "cell_type": "code",
   "execution_count": null,
   "metadata": {
    "collapsed": false
   },
   "outputs": [],
   "source": [
    "%%sql\n",
    "SELECT term FROM frequency WHERE docid=\"10398_txt_earn\" AND count=1"
   ]
  },
  {
   "cell_type": "markdown",
   "metadata": {},
   "source": [
    "**Problem 1, Part C:** Using Union"
   ]
  },
  {
   "cell_type": "code",
   "execution_count": null,
   "metadata": {
    "collapsed": false
   },
   "outputs": [],
   "source": [
    "%%sql\n",
    "SELECT term FROM frequency WHERE docid=\"10398_txt_earn\" AND count=1 UNION SELECT term FROM frequency WHERE docid=\"925_txt_trade\" AND count=1 "
   ]
  },
  {
   "cell_type": "markdown",
   "metadata": {},
   "source": [
    "**Problem 1, Part D:** Count unique documents"
   ]
  },
  {
   "cell_type": "code",
   "execution_count": null,
   "metadata": {
    "collapsed": false
   },
   "outputs": [],
   "source": [
    "%%sql\n",
    "SELECT count(*) FROM (SELECT docid FROM frequency WHERE term=\"legal\" UNION SELECT docid FROM frequency WHERE term=\"law\")"
   ]
  },
  {
   "cell_type": "markdown",
   "metadata": {},
   "source": [
    "**Problem 1, Part E:** Find documents with >300 terms"
   ]
  },
  {
   "cell_type": "code",
   "execution_count": null,
   "metadata": {
    "collapsed": false
   },
   "outputs": [],
   "source": [
    "%%sql\n",
    "SELECT count(*) FROM (SELECT sum(count) as wordcount, docid FROM frequency GROUP BY docid HAVING wordcount>300)"
   ]
  },
  {
   "cell_type": "markdown",
   "metadata": {},
   "source": [
    "**Problem 1, Part F:** Count documents that contain two words"
   ]
  },
  {
   "cell_type": "code",
   "execution_count": null,
   "metadata": {
    "collapsed": false
   },
   "outputs": [],
   "source": [
    "%%sql\n",
    "SELECT docid FROM frequency WHERE term='transactions' INTERSECT SELECT docid FROM frequency WHERE term='world'"
   ]
  },
  {
   "cell_type": "markdown",
   "metadata": {},
   "source": [
    "**Problem 2: Matrix Multiplication in SQL**"
   ]
  },
  {
   "cell_type": "code",
   "execution_count": null,
   "metadata": {
    "collapsed": false
   },
   "outputs": [],
   "source": [
    "%sql sqlite:///matrix.db"
   ]
  },
  {
   "cell_type": "code",
   "execution_count": null,
   "metadata": {
    "collapsed": false
   },
   "outputs": [],
   "source": [
    "%%sql\n",
    "SELECT * FROM B LIMIT 10"
   ]
  },
  {
   "cell_type": "code",
   "execution_count": null,
   "metadata": {
    "collapsed": false
   },
   "outputs": [],
   "source": [
    "%%sql\n",
    "SELECT A.row_num, B.col_num, sum(A.value*B.value) as value \n",
    "    FROM A,B \n",
    "    WHERE A.col_num=B.row_num \n",
    "    GROUP BY A.row_num, B.col_num"
   ]
  },
  {
   "cell_type": "markdown",
   "metadata": {},
   "source": [
    "**Problem 3: Working with a Term-Document Matrix**"
   ]
  },
  {
   "cell_type": "code",
   "execution_count": null,
   "metadata": {
    "collapsed": false
   },
   "outputs": [],
   "source": [
    "%sql sqlite:///reuters.db"
   ]
  },
  {
   "cell_type": "markdown",
   "metadata": {},
   "source": [
    "Each row of the frequency table is a document vector, with one column for each word. Multiplying the matrix by its own transpose gives a square *similarity matrix*, where each cell represents the similarity of two documents. The similarity here is just the dot product of the two document vectors.\n",
    "\n",
    "The condition `A.docid > B.docid` ensures that each dot product is only computed once.\n",
    "\n",
    "The notebook crashed without the LIMIT 100 clause, but you would remove this to actually use the query for stuff."
   ]
  },
  {
   "cell_type": "code",
   "execution_count": null,
   "metadata": {
    "collapsed": false
   },
   "outputs": [],
   "source": [
    "%%sql\n",
    "\n",
    "SELECT A.docid, B.docid, sum(A.count*B.count) as similarity\n",
    "    FROM frequency as A, frequency as B\n",
    "    WHERE A.term=B.term AND A.docid > B.docid\n",
    "    GROUP BY A.docid, B.docid\n",
    "    LIMIT 100"
   ]
  },
  {
   "cell_type": "markdown",
   "metadata": {},
   "source": [
    "To search the dataset, add a document that represents the keyword query *'washington taxes treasury'* as document q."
   ]
  },
  {
   "cell_type": "code",
   "execution_count": null,
   "metadata": {
    "collapsed": false
   },
   "outputs": [],
   "source": [
    "%%sql\n",
    "\n",
    "CREATE VIEW frequencyAndQuery AS\n",
    "    SELECT * FROM FREQUENCY\n",
    "    UNION\n",
    "    SELECT 'q' as docid, 'washington' as term, 1 as count\n",
    "    UNION\n",
    "    SELECT 'q' as docid, 'taxes' as term, 1 as count\n",
    "    UNION\n",
    "    SELECT 'q' as docid, 'treasury' as term, 2 as count"
   ]
  },
  {
   "cell_type": "markdown",
   "metadata": {},
   "source": [
    "Now compute the similarity matrix again. Get the 20 most similar documents to the query document q."
   ]
  },
  {
   "cell_type": "code",
   "execution_count": null,
   "metadata": {
    "collapsed": false
   },
   "outputs": [],
   "source": [
    "%%sql\n",
    "\n",
    "SELECT * FROM\n",
    "    (SELECT A.docid as docA, B.docid as docB, sum(A.count*B.count) as similarity\n",
    "        FROM frequencyAndQuery as A, frequencyAndQuery as B\n",
    "        WHERE A.term=B.term AND A.docid > B.docid\n",
    "        GROUP BY A.docid, B.docid)\n",
    "WHERE docA=\"q\" OR docB=\"q\"\n",
    "ORDER BY similarity DESC\n",
    "LIMIT 20"
   ]
  },
  {
   "cell_type": "markdown",
   "metadata": {},
   "source": [
    "List all the terms in the most similar document."
   ]
  },
  {
   "cell_type": "code",
   "execution_count": null,
   "metadata": {
    "collapsed": false
   },
   "outputs": [],
   "source": [
    "%%sql\n",
    "SELECT term, count from frequency where docid=\"19775_txt_interest\" ORDER BY count DESC"
   ]
  }
 ],
 "metadata": {
  "kernelspec": {
   "display_name": "Python 2",
   "language": "python",
   "name": "python2"
  },
  "language_info": {
   "codemirror_mode": {
    "name": "ipython",
    "version": 2
   },
   "file_extension": ".py",
   "mimetype": "text/x-python",
   "name": "python",
   "nbconvert_exporter": "python",
   "pygments_lexer": "ipython2",
   "version": "2.7.11"
  }
 },
 "nbformat": 4,
 "nbformat_minor": 0
}
